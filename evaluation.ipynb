{
 "cells": [
  {
   "cell_type": "code",
   "execution_count": 2,
   "metadata": {},
   "outputs": [],
   "source": [
    "from scripts.make_dataset import get_data_loaders\n",
    "from util import full_model_evaluation"
   ]
  },
  {
   "cell_type": "code",
   "execution_count": null,
   "metadata": {},
   "outputs": [],
   "source": [
    "import torch\n",
    "from transformers import BertTokenizer\n",
    "\n",
    "device = torch.device(\"cuda\" if torch.cuda.is_available() else \"cpu\")\n",
    "    \n",
    "tokenizer = BertTokenizer.from_pretrained(\"bert-base-uncased\")\n",
    "\n",
    "train_loader, validation_loader = get_data_loaders()  # Get DataLoader objects for train and validation sets\n",
    "\n",
    "# Load in fine tuned model\n",
    "model_path = \"models/fc_fine_tuned_model.pt\"\n",
    "\n",
    "model = torch.load(model_path)\n",
    "\n",
    "eval_dict = full_model_evaluation(\n",
    "    model,\n",
    "    validation_loader,\n",
    "    device\n",
    ")\n",
    "\n",
    "for item in eval_dict:\n",
    "    print(f\"item: \", eval_dict[item])"
   ]
  },
  {
   "cell_type": "code",
   "execution_count": 4,
   "metadata": {},
   "outputs": [
    {
     "name": "stdout",
     "output_type": "stream",
     "text": [
      "asdf\n",
      "fdsa\n"
     ]
    }
   ],
   "source": [
    "test = {\n",
    "    \"asdf\": 1,\n",
    "    'fdsa': 2\n",
    "}\n",
    "\n",
    "for item in test:\n",
    "    print(item)"
   ]
  }
 ],
 "metadata": {
  "kernelspec": {
   "display_name": "venv",
   "language": "python",
   "name": "python3"
  },
  "language_info": {
   "codemirror_mode": {
    "name": "ipython",
    "version": 3
   },
   "file_extension": ".py",
   "mimetype": "text/x-python",
   "name": "python",
   "nbconvert_exporter": "python",
   "pygments_lexer": "ipython3",
   "version": "3.11.4"
  }
 },
 "nbformat": 4,
 "nbformat_minor": 2
}
